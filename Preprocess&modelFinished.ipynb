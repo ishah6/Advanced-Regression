{
  "nbformat": 4,
  "nbformat_minor": 0,
  "metadata": {
    "colab": {
      "name": "Copy of CIS508-B11-Preprocess&modelFinished",
      "provenance": []
    },
    "kernelspec": {
      "name": "python3",
      "display_name": "Python 3"
    }
  },
  "cells": [
    {
      "cell_type": "code",
      "metadata": {
        "id": "SDO8Q2EE5oNj",
        "colab_type": "code",
        "outputId": "58cf97cf-8a6b-42bf-b5c9-3b6928d27930",
        "colab": {
          "base_uri": "https://localhost:8080/",
          "height": 258
        }
      },
      "source": [
        "!pip install vecstack"
      ],
      "execution_count": 0,
      "outputs": [
        {
          "output_type": "stream",
          "text": [
            "Collecting vecstack\n",
            "  Downloading https://files.pythonhosted.org/packages/d0/a1/b9a1e9e9e5a12078da1ab9788c7885e4c745358f7e57d5f94d9db6a4e898/vecstack-0.4.0.tar.gz\n",
            "Requirement already satisfied: numpy in /usr/local/lib/python3.6/dist-packages (from vecstack) (1.17.4)\n",
            "Requirement already satisfied: scipy in /usr/local/lib/python3.6/dist-packages (from vecstack) (1.3.2)\n",
            "Requirement already satisfied: scikit-learn>=0.18 in /usr/local/lib/python3.6/dist-packages (from vecstack) (0.21.3)\n",
            "Requirement already satisfied: joblib>=0.11 in /usr/local/lib/python3.6/dist-packages (from scikit-learn>=0.18->vecstack) (0.14.0)\n",
            "Building wheels for collected packages: vecstack\n",
            "  Building wheel for vecstack (setup.py) ... \u001b[?25l\u001b[?25hdone\n",
            "  Created wheel for vecstack: filename=vecstack-0.4.0-cp36-none-any.whl size=19879 sha256=25ad932d5b93b6ff7415c4338b54c3ef317ed6b090e1eee241444ddaa0131fa5\n",
            "  Stored in directory: /root/.cache/pip/wheels/5f/bb/4e/f6488433d53bc0684673d6845e5bf11a25240577c8151c140e\n",
            "Successfully built vecstack\n",
            "Installing collected packages: vecstack\n",
            "Successfully installed vecstack-0.4.0\n"
          ],
          "name": "stdout"
        }
      ]
    },
    {
      "cell_type": "code",
      "metadata": {
        "id": "guf7CSbavqoY",
        "colab_type": "code",
        "outputId": "f9dedb2a-2166-4072-b210-4298d800d338",
        "colab": {
          "base_uri": "https://localhost:8080/",
          "height": 71
        }
      },
      "source": [
        "\n",
        "from vecstack import stacking\n",
        "import pandas as pd\n",
        "import numpy as np\n",
        "from sklearn.metrics import accuracy_score #works\n",
        "from sklearn.model_selection import train_test_split\n",
        "from sklearn.ensemble import RandomForestClassifier\n",
        "from sklearn.tree import DecisionTreeClassifier\n",
        "from sklearn.model_selection import GridSearchCV\n",
        "from sklearn.model_selection import RandomizedSearchCV\n",
        "from sklearn.model_selection import cross_val_score, train_test_split\n",
        "from sklearn.metrics import classification_report, confusion_matrix\n",
        "from sklearn.ensemble import GradientBoostingClassifier\n",
        "from sklearn.ensemble import GradientBoostingRegressor\n",
        "from sklearn.neural_network import MLPClassifier\n",
        "from sklearn.neural_network import MLPRegressor\n",
        "#from sklearn.ensemble import RandomForestClassifier\n",
        "from imblearn.over_sampling import SMOTE \n",
        "from sklearn.svm import SVC,SVR\n",
        "from sklearn import svm\n",
        "from collections import Counter #for Smote, \n",
        "from sklearn.feature_selection import SelectKBest, f_classif\n",
        "from sklearn.neighbors import KNeighborsClassifier\n",
        "from sklearn.ensemble import RandomForestRegressor\n",
        "from sklearn.tree import DecisionTreeRegressor\n",
        "from sklearn.linear_model import LogisticRegression\n",
        "#add following to your code\n",
        "from sklearn import preprocessing\n",
        "from sklearn.preprocessing import StandardScaler\n",
        "from sklearn.metrics import mean_squared_error\n",
        "from math import sqrt\n",
        "from sklearn.datasets import load_digits\n",
        "from sklearn.feature_selection import SelectKBest, f_classif\n",
        "\n",
        "import warnings\n",
        "warnings.filterwarnings(\"ignore\")\n"
      ],
      "execution_count": 0,
      "outputs": [
        {
          "output_type": "stream",
          "text": [
            "/usr/local/lib/python3.6/dist-packages/sklearn/externals/six.py:31: DeprecationWarning: The module is deprecated in version 0.21 and will be removed in version 0.23 since we've dropped support for Python 2.7. Please rely on the official version of six (https://pypi.org/project/six/).\n",
            "  \"(https://pypi.org/project/six/).\", DeprecationWarning)\n"
          ],
          "name": "stderr"
        }
      ]
    },
    {
      "cell_type": "markdown",
      "metadata": {
        "id": "lDRgNKl6HWNr",
        "colab_type": "text"
      },
      "source": [
        ""
      ]
    },
    {
      "cell_type": "code",
      "metadata": {
        "id": "vlOFUNCsvqrZ",
        "colab_type": "code",
        "outputId": "0d959020-1ad1-41c5-9276-8eaf3691e563",
        "colab": {
          "base_uri": "https://localhost:8080/",
          "height": 139
        }
      },
      "source": [
        "from google.colab import drive\n",
        "drive.mount('/gdrive')\n",
        "%cd /gdrive"
      ],
      "execution_count": 0,
      "outputs": [
        {
          "output_type": "stream",
          "text": [
            "Go to this URL in a browser: https://accounts.google.com/o/oauth2/auth?client_id=947318989803-6bn6qk8qdgf4n4g3pfee6491hc0brc4i.apps.googleusercontent.com&redirect_uri=urn%3aietf%3awg%3aoauth%3a2.0%3aoob&response_type=code&scope=email%20https%3a%2f%2fwww.googleapis.com%2fauth%2fdocs.test%20https%3a%2f%2fwww.googleapis.com%2fauth%2fdrive%20https%3a%2f%2fwww.googleapis.com%2fauth%2fdrive.photos.readonly%20https%3a%2f%2fwww.googleapis.com%2fauth%2fpeopleapi.readonly\n",
            "\n",
            "Enter your authorization code:\n",
            "··········\n",
            "Mounted at /gdrive\n",
            "/gdrive\n"
          ],
          "name": "stdout"
        }
      ]
    },
    {
      "cell_type": "code",
      "metadata": {
        "id": "slGB9tEjvqtz",
        "colab_type": "code",
        "colab": {}
      },
      "source": [
        "trainfile = r'/gdrive/My Drive/2019fall/cis508/TeamProject/Preprocess_Train.csv'\n",
        "Train_Data = pd.read_csv(trainfile)\n",
        "\n",
        "testfile = r'/gdrive/My Drive/2019fall/cis508/TeamProject/Preprocess_Test.csv'\n",
        "Test_Data = pd.read_csv(testfile)"
      ],
      "execution_count": 0,
      "outputs": []
    },
    {
      "cell_type": "code",
      "metadata": {
        "id": "6BcVsXO-vr8z",
        "colab_type": "code",
        "outputId": "7f96f15e-9829-4b4b-f71b-bbffe7349c02",
        "colab": {
          "base_uri": "https://localhost:8080/",
          "height": 221
        }
      },
      "source": [
        "Train_Data.dtypes"
      ],
      "execution_count": 0,
      "outputs": [
        {
          "output_type": "execute_result",
          "data": {
            "text/plain": [
              "Unnamed: 0         int64\n",
              "Id                 int64\n",
              "MSSubClass         int64\n",
              "MSZoning          object\n",
              "LotFrontage      float64\n",
              "                  ...   \n",
              "MoSold             int64\n",
              "YrSold             int64\n",
              "SaleType          object\n",
              "SaleCondition     object\n",
              "SalePrice        float64\n",
              "Length: 77, dtype: object"
            ]
          },
          "metadata": {
            "tags": []
          },
          "execution_count": 84
        }
      ]
    },
    {
      "cell_type": "code",
      "metadata": {
        "id": "P7NvuODowwYK",
        "colab_type": "code",
        "outputId": "bfc60de9-a3df-4db9-8f5c-c4d41012a952",
        "colab": {
          "base_uri": "https://localhost:8080/",
          "height": 221
        }
      },
      "source": [
        "Test_Data.dtypes"
      ],
      "execution_count": 0,
      "outputs": [
        {
          "output_type": "execute_result",
          "data": {
            "text/plain": [
              "Unnamed: 0         int64\n",
              "Id                 int64\n",
              "MSSubClass         int64\n",
              "MSZoning          object\n",
              "LotFrontage      float64\n",
              "                  ...   \n",
              "MiscVal            int64\n",
              "MoSold             int64\n",
              "YrSold             int64\n",
              "SaleType          object\n",
              "SaleCondition     object\n",
              "Length: 76, dtype: object"
            ]
          },
          "metadata": {
            "tags": []
          },
          "execution_count": 85
        }
      ]
    },
    {
      "cell_type": "code",
      "metadata": {
        "id": "nulcOdUlXzb_",
        "colab_type": "code",
        "outputId": "0150e797-acd1-4133-9a60-5af1d20b8c04",
        "colab": {
          "base_uri": "https://localhost:8080/",
          "height": 34
        }
      },
      "source": [
        "# Log transform the target for official scoring\n",
        "Train_Data['SalePrice'] = np.log1p(Train_Data['SalePrice'])\n",
        "y_Train = Train_Data[\"SalePrice\"]\n",
        "print(Train_Data.shape)"
      ],
      "execution_count": 0,
      "outputs": [
        {
          "output_type": "stream",
          "text": [
            "(1460, 77)\n"
          ],
          "name": "stdout"
        }
      ]
    },
    {
      "cell_type": "code",
      "metadata": {
        "id": "o8qWZThKTm9k",
        "colab_type": "code",
        "outputId": "84a025c4-42ae-4bf9-cb50-e715e8cdbfeb",
        "colab": {
          "base_uri": "https://localhost:8080/",
          "height": 323
        }
      },
      "source": [
        "#Copy Train data excluding target\n",
        "#categoricalFeatures = Train_Data.columns\n",
        "\n",
        "trainData_Copy = Train_Data.iloc[:, :-1].copy()\n",
        "testData_Copy = Test_Data.iloc[:, :].copy()\n",
        "\n",
        "trainData_Copy.head()\n",
        "\n",
        "#combine data together \n",
        "combined_Data = pd.concat([trainData_Copy, testData_Copy], keys=[0,1])\n",
        "#select categorical feature then we are going to dummy them\n",
        "categoricalFeatures = combined_Data.select_dtypes(exclude=['int','float64']).columns\n",
        "#dummy variables\n",
        "combined_Data = pd.get_dummies(combined_Data, columns = categoricalFeatures)\n",
        "#save feature names because we are going to do rescaler\n",
        "combined_Data_col = combined_Data.columns\n",
        "\n",
        "#Separate Train data and test data\n",
        "X_Train = combined_Data.xs(0)\n",
        "X_Test = combined_Data.xs(1)\n",
        "\n",
        "#Normalize for train data\n",
        "Xscaler = StandardScaler()\n",
        "xscaled = Xscaler.fit(X_Train)\n",
        "XscalerTrans = Xscaler.transform(X_Train)\n",
        "#give feature names back which we saved before\n",
        "X_Train = pd.DataFrame(XscalerTrans, columns=combined_Data_col)\n",
        "print(X_Train.head())\n",
        "print(X_Train.shape)\n",
        "\n",
        "#Normalize for test data\n",
        "xscaled = Xscaler.fit(X_Test)\n",
        "XscalerTrans = Xscaler.transform(X_Test)\n",
        "#give feature names back which we saved before\n",
        "X_Test = pd.DataFrame(XscalerTrans, columns=combined_Data_col)\n",
        "print(X_Test.head())\n",
        "print(X_Test.shape)"
      ],
      "execution_count": 0,
      "outputs": [
        {
          "output_type": "stream",
          "text": [
            "   Unnamed: 0        Id  ...  SaleCondition_Normal  SaleCondition_Partial\n",
            "0   -1.730865 -1.730865  ...              0.467651              -0.305995\n",
            "1   -1.728492 -1.728492  ...              0.467651              -0.305995\n",
            "2   -1.726120 -1.726120  ...              0.467651              -0.305995\n",
            "3   -1.723747 -1.723747  ...             -2.138345              -0.305995\n",
            "4   -1.721374 -1.721374  ...              0.467651              -0.305995\n",
            "\n",
            "[5 rows x 272 columns]\n",
            "(1460, 272)\n",
            "   Unnamed: 0        Id  ...  SaleCondition_Normal  SaleCondition_Partial\n",
            "0   -1.730864 -1.730864  ...              0.460211              -0.299365\n",
            "1   -1.728490 -1.728490  ...              0.460211              -0.299365\n",
            "2   -1.726115 -1.726115  ...              0.460211              -0.299365\n",
            "3   -1.723741 -1.723741  ...              0.460211              -0.299365\n",
            "4   -1.721367 -1.721367  ...              0.460211              -0.299365\n",
            "\n",
            "[5 rows x 272 columns]\n",
            "(1459, 272)\n"
          ],
          "name": "stdout"
        }
      ]
    },
    {
      "cell_type": "code",
      "metadata": {
        "id": "K46d2GOkQYPR",
        "colab_type": "code",
        "outputId": "3ee99fbe-8134-491f-e4fa-96fc1c0049bf",
        "colab": {
          "base_uri": "https://localhost:8080/",
          "height": 51
        }
      },
      "source": [
        "\n",
        "X_train, X_test, y_train, y_test = train_test_split(X_Train, y_Train , test_size=0.2, random_state=10)\n",
        "print(X_train.shape)\n",
        "print (Test_Data.shape)"
      ],
      "execution_count": 0,
      "outputs": [
        {
          "output_type": "stream",
          "text": [
            "(1168, 272)\n",
            "(1459, 76)\n"
          ],
          "name": "stdout"
        }
      ]
    },
    {
      "cell_type": "code",
      "metadata": {
        "id": "yK0gIgxoVD2H",
        "colab_type": "code",
        "outputId": "65dabd43-c429-4df4-fe1d-0d1a1a8a2525",
        "colab": {
          "base_uri": "https://localhost:8080/",
          "height": 68
        }
      },
      "source": [
        "#Support Vector Regressor================================================================================\n",
        "parameters = {'kernel' : ['rbf']}\n",
        "svr = SVR()\n",
        "svr_random = RandomizedSearchCV(svr,parameters, n_iter = 15)\n",
        "svr_random.fit(X_train, y_train)\n",
        "grid_parm_svr=svr_random.best_params_\n",
        "print(grid_parm_svr)\n",
        "\n",
        "#Randomized Search for hyperparameter tuning\n",
        "svr = SVR(**grid_parm_svr)\n",
        "svr.fit(X_train, y_train) \n",
        "svr_predict_Train=svr.predict(X_train)\n",
        "#svr 0.21\n",
        "mean_squared_error(y_train,svr_predict_Train)\n",
        "print(\"RMSE (training) for Decision Tree:{0:10f}\".format(mean_squared_error(y_train,svr_predict_Train)))\n",
        "svr_predict_Test=svr.predict(X_test)\n",
        "mean_squared_error(y_test,svr_predict_Test)\n",
        "print(\"RMSE (Test Data) for Decision Tree:{0:10f}\".format(mean_squared_error(y_test,svr_predict_Test)))\n"
      ],
      "execution_count": 0,
      "outputs": [
        {
          "output_type": "stream",
          "text": [
            "{'kernel': 'rbf'}\n",
            "RMSE (training) for Decision Tree:  0.005957\n",
            "RMSE (Test Data) for Decision Tree:  0.037538\n"
          ],
          "name": "stdout"
        }
      ]
    },
    {
      "cell_type": "code",
      "metadata": {
        "id": "UVk16-GNRIi3",
        "colab_type": "code",
        "colab": {}
      },
      "source": [
        "pred_test = pd.DataFrame(svr.predict(X_Test), columns=[\"SalePrice\"])\n",
        "pred_test = np.exp(pred_test)\n",
        "\n",
        "result = pd.concat([Test_Data['Id'], pred_test], axis=1)\n",
        "result.to_csv(\"/gdrive/My Drive/2019fall/cis508/TeamProject/SVR.csv\", index = False)"
      ],
      "execution_count": 0,
      "outputs": []
    },
    {
      "cell_type": "code",
      "metadata": {
        "id": "s6RSJyQ1vYOK",
        "colab_type": "code",
        "colab": {}
      },
      "source": [
        ""
      ],
      "execution_count": 0,
      "outputs": []
    },
    {
      "cell_type": "code",
      "metadata": {
        "id": "4dPr8Yp0tH-f",
        "colab_type": "code",
        "outputId": "4cf9623f-22e3-47a4-d808-91e128bf4fbc",
        "colab": {
          "base_uri": "https://localhost:8080/",
          "height": 68
        }
      },
      "source": [
        "#Support Vector Regressor================================================================================\n",
        "parameters = {'kernel' : ['rbf']}\n",
        "svr = SVR()\n",
        "svr_random = RandomizedSearchCV(svr,parameters, n_iter = 15)\n",
        "svr_random.fit(X_train, y_train)\n",
        "grid_parm_svr=svr_random.best_params_\n",
        "print(grid_parm_svr)\n",
        "\n",
        "#Randomized Search for hyperparameter tuning\n",
        "svr = SVR(**grid_parm_svr)\n",
        "svr.fit(X_train, y_train) \n",
        "svr_predict_Train=svr.predict(X_train)\n",
        "\n",
        "mean_squared_error(y_train,svr_predict_Train)\n",
        "print(\"RMSE (training) for Decision Tree:{0:10f}\".format(mean_squared_error(y_train,svr_predict_Train)))\n",
        "svr_predict_Test=svr.predict(X_test)\n",
        "mean_squared_error(y_test,svr_predict_Test)\n",
        "print(\"RMSE (Test Data) for Decision Tree:{0:10f}\".format(mean_squared_error(y_test,svr_predict_Test)))\n"
      ],
      "execution_count": 0,
      "outputs": [
        {
          "output_type": "stream",
          "text": [
            "{'kernel': 'rbf'}\n",
            "RMSE (training) for Decision Tree:  0.005957\n",
            "RMSE (Test Data) for Decision Tree:  0.037538\n"
          ],
          "name": "stdout"
        }
      ]
    },
    {
      "cell_type": "code",
      "metadata": {
        "id": "Hh0KND3ItLMP",
        "colab_type": "code",
        "colab": {}
      },
      "source": [
        "pred_test = pd.DataFrame(svr.predict(X_Test), columns=[\"SalePrice\"])\n",
        "pred_test = np.exp(pred_test)\n",
        "\n",
        "result = pd.concat([Test_Data['Id'], pred_test], axis=1)\n",
        "result.to_csv(\"/gdrive/My Drive/2019fall/cis508/TeamProject/SVRht.csv\", index = False)"
      ],
      "execution_count": 0,
      "outputs": []
    },
    {
      "cell_type": "code",
      "metadata": {
        "id": "Bvjt09z4r4Vr",
        "colab_type": "code",
        "outputId": "ccf0c744-1dea-4639-ff85-3c804a0a33fa",
        "colab": {
          "base_uri": "https://localhost:8080/",
          "height": 51
        }
      },
      "source": [
        "#Random Forest Regressor==============================================================================\n",
        "#=================================================================================================\n",
        "\n",
        "rfc = RandomForestRegressor()\n",
        "rfc.fit(X_train, y_train)\n",
        "rfc_predict_Train=rfc.predict(X_train)\n",
        "\n",
        "mean_squared_error(y_train,rfc_predict_Train)\n",
        "print(\"RMSE (training) for Decision Tree:{0:10f}\".format(mean_squared_error(y_train,rfc_predict_Train)))\n",
        "rfc_predict_Test=rfc.predict(X_test)\n",
        "mean_squared_error(y_test,rfc_predict_Test)\n",
        "print(\"RMSE (Test Data) for Decision Tree:{0:10f}\".format(mean_squared_error(y_test,rfc_predict_Test)))"
      ],
      "execution_count": 0,
      "outputs": [
        {
          "output_type": "stream",
          "text": [
            "RMSE (training) for Decision Tree:  0.004533\n",
            "RMSE (Test Data) for Decision Tree:  0.023071\n"
          ],
          "name": "stdout"
        }
      ]
    },
    {
      "cell_type": "code",
      "metadata": {
        "id": "HPsHA_i7r7Ct",
        "colab_type": "code",
        "colab": {}
      },
      "source": [
        "pred_test = pd.DataFrame(rfc.predict(X_Test), columns=[\"SalePrice\"])\n",
        "pred_test = np.exp(pred_test)\n",
        "\n",
        "result = pd.concat([Test_Data['Id'], pred_test], axis=1)\n",
        "result.to_csv(\"/gdrive/My Drive/2019fall/cis508/TeamProject/RFbasic.csv\", index = False)"
      ],
      "execution_count": 0,
      "outputs": []
    },
    {
      "cell_type": "code",
      "metadata": {
        "id": "BolVbx7CXmmg",
        "colab_type": "code",
        "outputId": "f394cdad-2e7c-4427-a11c-4683c98ec4b6",
        "colab": {
          "base_uri": "https://localhost:8080/",
          "height": 68
        }
      },
      "source": [
        "\n",
        "#Hyperparameter tuning for random forest\n",
        "parameters={'min_samples_leaf' : range(10,100,10),'max_depth': range(3,30,3),'n_estimators':[20,30,40]}\n",
        "rfc = RandomForestRegressor()\n",
        "rfc_random = RandomizedSearchCV(rfc,parameters,n_iter=15)\n",
        "rfc_random.fit(X_train, y_train)\n",
        "grid_parm_rfc=rfc_random.best_params_\n",
        "print(grid_parm_rfc)\n",
        "\n",
        "#contruct random forest using the best parameters\n",
        "rfc = RandomForestRegressor(**grid_parm_rfc)\n",
        "rfc.fit(X_train, y_train)\n",
        "rfc_predict_Train=rfc.predict(X_train)\n",
        "#random foerest 0.18\n",
        "\n",
        "mean_squared_error(y_train,rfc_predict_Train)\n",
        "print(\"RMSE (training) for Decision Tree:{0:10f}\".format(mean_squared_error(y_train,rfc_predict_Train)))\n",
        "rfc_predict_Test=rfc.predict(X_test)\n",
        "mean_squared_error(y_test,rfc_predict_Test)\n",
        "print(\"RMSE (Test Data) for Decision Tree:{0:10f}\".format(mean_squared_error(y_test,rfc_predict_Test)))"
      ],
      "execution_count": 0,
      "outputs": [
        {
          "output_type": "stream",
          "text": [
            "{'n_estimators': 40, 'min_samples_leaf': 10, 'max_depth': 15}\n",
            "RMSE (training) for Decision Tree:  0.014776\n",
            "RMSE (Test Data) for Decision Tree:  0.025158\n"
          ],
          "name": "stdout"
        }
      ]
    },
    {
      "cell_type": "code",
      "metadata": {
        "id": "4Nr2SnkHXpji",
        "colab_type": "code",
        "colab": {}
      },
      "source": [
        "pred_test = pd.DataFrame(rfc.predict(X_Test),columns=[\"SalePrice\"])\n",
        "pred_test = np.exp(pred_test)\n",
        "result = pd.concat([Test_Data['Id'], pred_test], axis=1)\n",
        "result.to_csv(\"/gdrive/My Drive/2019fall/cis508/TeamProject/RFht.csv\", index = False)"
      ],
      "execution_count": 0,
      "outputs": []
    },
    {
      "cell_type": "code",
      "metadata": {
        "id": "QMba492TraMn",
        "colab_type": "code",
        "outputId": "0c7c2838-74d3-4825-bed0-9eddf6e06eed",
        "colab": {
          "base_uri": "https://localhost:8080/",
          "height": 68
        }
      },
      "source": [
        "#Hyperparameter tuning done for decision tree classifier\n",
        "parameters={'min_samples_split' : range(10,100,10),'max_depth': range(1,20,2)}\n",
        "clf = DecisionTreeRegressor()\n",
        "clf_random = RandomizedSearchCV(clf,parameters,n_iter=15)\n",
        "clf_random.fit(X_train, y_train)\n",
        "grid_parm=clf_random.best_params_\n",
        "print(grid_parm)\n",
        "\n",
        "#CONSTRUCT DEFAULT DECISION TREE AND OBTAIN RESPECTIVE ACCURACY \n",
        "clf = DecisionTreeRegressor(**grid_parm)\n",
        "clf.fit(X_train, y_train)\n",
        "clf_predict_Train=clf.predict(X_train)\n",
        "\n",
        "\n",
        "#clf.feature_importances_\n",
        "mean_squared_error(y_train,clf_predict_Train)\n",
        "print(\"RMSE (training) for Decision Tree:{0:10f}\".format(mean_squared_error(y_train,clf_predict_Train)))\n",
        "clf_predict_Test=clf.predict(X_test)\n",
        "mean_squared_error(y_test,clf_predict_Test)\n",
        "print(\"RMSE (Test Data) for Decision Tree:{0:10f}\".format(mean_squared_error(y_test,clf_predict_Test)))\n"
      ],
      "execution_count": 0,
      "outputs": [
        {
          "output_type": "stream",
          "text": [
            "{'min_samples_split': 30, 'max_depth': 13}\n",
            "RMSE (training) for Decision Tree:  0.013547\n",
            "RMSE (Test Data) for Decision Tree:  0.034983\n"
          ],
          "name": "stdout"
        }
      ]
    },
    {
      "cell_type": "code",
      "metadata": {
        "id": "sYWMya9Rrn1h",
        "colab_type": "code",
        "colab": {}
      },
      "source": [
        "pred_test = pd.DataFrame(clf.predict(X_Test),columns=[\"SalePrice\"])\n",
        "pred_test = np.exp(pred_test)\n",
        "result = pd.concat([Test_Data['Id'], pred_test], axis=1)\n",
        "result.to_csv(\"/gdrive/My Drive/2019fall/cis508/TeamProject/DCht.csv\", index = False)"
      ],
      "execution_count": 0,
      "outputs": []
    },
    {
      "cell_type": "code",
      "metadata": {
        "id": "kMoWocEJrzS7",
        "colab_type": "code",
        "outputId": "0c96d3db-35ae-4c25-9789-84d31f7c2f13",
        "colab": {
          "base_uri": "https://localhost:8080/",
          "height": 51
        }
      },
      "source": [
        "#Gradient Boosting Regressor================================================================================\n",
        "\n",
        "abc = GradientBoostingRegressor()\n",
        "abc.fit(X_train, y_train)\n",
        "abc_predict_Train=abc.predict(X_train)\n",
        "\n",
        "mean_squared_error(y_train,abc_predict_Train)\n",
        "print(\"RMSE (training) for Decision Tree:{0:10f}\".format(mean_squared_error(y_train,abc_predict_Train)))\n",
        "abc_predict_Test=abc.predict(X_test)\n",
        "mean_squared_error(y_test,abc_predict_Test)\n",
        "print(\"RMSE (Test Data) for Decision Tree:{0:10f}\".format(mean_squared_error(y_test,abc_predict_Test)))"
      ],
      "execution_count": 0,
      "outputs": [
        {
          "output_type": "stream",
          "text": [
            "RMSE (training) for Decision Tree:  0.005653\n",
            "RMSE (Test Data) for Decision Tree:  0.017245\n"
          ],
          "name": "stdout"
        }
      ]
    },
    {
      "cell_type": "code",
      "metadata": {
        "id": "z86YkX7vsNJc",
        "colab_type": "code",
        "colab": {}
      },
      "source": [
        "pred_test = pd.DataFrame(abc.predict(X_Test),columns=[\"SalePrice\"])\n",
        "pred_test = np.exp(pred_test)\n",
        "result = pd.concat([Test_Data['Id'], pred_test], axis=1)\n",
        "result.to_csv(\"/gdrive/My Drive/2019fall/cis508/TeamProject/GBbasic.csv\", index = False)"
      ],
      "execution_count": 0,
      "outputs": []
    },
    {
      "cell_type": "code",
      "metadata": {
        "id": "QM0LyhTCsRMp",
        "colab_type": "code",
        "outputId": "6afd8d69-1cb7-4373-9f0a-1b017314b81b",
        "colab": {
          "base_uri": "https://localhost:8080/",
          "height": 68
        }
      },
      "source": [
        "\n",
        "\n",
        "#Gradient Boosting ============================================================\n",
        "search_grid={'n_estimators':[5,10,20, 30, 50],'learning_rate':[0.01,.1]}\n",
        "abc =GradientBoostingRegressor()\n",
        "abc.fit(X_train, y_train)\n",
        "abc_predict=abc.predict(X_test)\n",
        "\n",
        "\n",
        "#Randomized Search for hyperparameter tuning\n",
        "abc_random = RandomizedSearchCV(abc,search_grid,n_iter=15)\n",
        "abc_random.fit(X_train, y_train)\n",
        "grid_parm_abc=abc_random.best_params_\n",
        "print(grid_parm_abc)\n",
        "\n",
        "\n",
        "mean_squared_error(y_train,abc_predict_Train)\n",
        "print(\"RMSE (training) for Decision Tree:{0:10f}\".format(mean_squared_error(y_train,abc_predict_Train)))\n",
        "abc_predict_Test=abc.predict(X_test)\n",
        "mean_squared_error(y_test,abc_predict_Test)\n",
        "print(\"RMSE (Test Data) for Decision Tree:{0:10f}\".format(mean_squared_error(y_test,abc_predict_Test)))"
      ],
      "execution_count": 0,
      "outputs": [
        {
          "output_type": "stream",
          "text": [
            "{'n_estimators': 50, 'learning_rate': 0.1}\n",
            "RMSE (training) for Decision Tree:  0.005653\n",
            "RMSE (Test Data) for Decision Tree:  0.017376\n"
          ],
          "name": "stdout"
        }
      ]
    },
    {
      "cell_type": "code",
      "metadata": {
        "id": "o-SmXSUXsYz0",
        "colab_type": "code",
        "colab": {}
      },
      "source": [
        "pred_test = pd.DataFrame(abc.predict(X_Test),columns=[\"SalePrice\"])\n",
        "pred_test = np.exp(pred_test)\n",
        "result = pd.concat([Test_Data['Id'], pred_test], axis=1)\n",
        "result.to_csv(\"/gdrive/My Drive/2019fall/cis508/TeamProject/GBht.csv\", index = False)"
      ],
      "execution_count": 0,
      "outputs": []
    },
    {
      "cell_type": "code",
      "metadata": {
        "id": "YvEX8cKVsj0m",
        "colab_type": "code",
        "outputId": "5da8e9a8-132f-4411-d47b-dcf771406cd7",
        "colab": {
          "base_uri": "https://localhost:8080/",
          "height": 51
        }
      },
      "source": [
        "#MLP Regressor================================================================================\n",
        "\n",
        "mlp = MLPRegressor()\n",
        "mlp.fit(X_train, y_train) \n",
        "mlp_predict_Train=mlp.predict(X_train)\n",
        "\n",
        "mean_squared_error(y_train,abc_predict_Train)\n",
        "print(\"RMSE (training) for Decision Tree:{0:10f}\".format(mean_squared_error(y_train,mlp_predict_Train)))\n",
        "mlp_predict_Test=mlp.predict(X_test)\n",
        "mean_squared_error(y_test,mlp_predict_Test)\n",
        "print(\"RMSE (Test Data) for Decision Tree:{0:10f}\".format(mean_squared_error(y_test,mlp_predict_Test)))"
      ],
      "execution_count": 0,
      "outputs": [
        {
          "output_type": "stream",
          "text": [
            "RMSE (training) for Decision Tree:  0.010187\n",
            "RMSE (Test Data) for Decision Tree:  7.715640\n"
          ],
          "name": "stdout"
        }
      ]
    },
    {
      "cell_type": "code",
      "metadata": {
        "id": "X2Bn5bwqtecG",
        "colab_type": "code",
        "colab": {}
      },
      "source": [
        "pred_test = pd.DataFrame(mlp.predict(X_Test),columns=[\"SalePrice\"])\n",
        "pred_test = np.exp(pred_test)\n",
        "result = pd.concat([Test_Data['Id'], pred_test], axis=1)\n",
        "result.to_csv(\"/gdrive/My Drive/2019fall/cis508/TeamProject/MLP.csv\", index = False)"
      ],
      "execution_count": 0,
      "outputs": []
    },
    {
      "cell_type": "code",
      "metadata": {
        "id": "RmC6v2mFtQHN",
        "colab_type": "code",
        "outputId": "6d914ec3-b936-4ef2-c479-9bb655349f9d",
        "colab": {
          "base_uri": "https://localhost:8080/",
          "height": 68
        }
      },
      "source": [
        "#Hyperparameter tuning \n",
        "parameters={'solver' :['lbfgs']}\n",
        "mlp = MLPRegressor()\n",
        "mlp_random = RandomizedSearchCV(mlp,parameters,n_iter=15)\n",
        "mlp_random.fit(X_train, y_train)\n",
        "grid_parm_mlp=mlp_random.best_params_\n",
        "print(grid_parm_mlp)\n",
        "\n",
        "mlp = MLPRegressor(**grid_parm_mlp)\n",
        "mlp.fit(X_train, y_train)\n",
        "mlp_predict_Train=mlp.predict(X_train)\n",
        "\n",
        "mean_squared_error(y_train,mlp_predict_Train)\n",
        "print(\"RMSE (training) for Decision Tree:{0:10f}\".format(mean_squared_error(y_train,mlp_predict_Train)))\n",
        "mlp_predict_Test=mlp.predict(X_test)\n",
        "mean_squared_error(y_test,mlp_predict_Test)\n",
        "print(\"RMSE (Test Data) for Decision Tree:{0:10f}\".format(mean_squared_error(y_test,mlp_predict_Test)))\n",
        "\n"
      ],
      "execution_count": 0,
      "outputs": [
        {
          "output_type": "stream",
          "text": [
            "{'solver': 'lbfgs'}\n",
            "RMSE (training) for Decision Tree:  0.000014\n",
            "RMSE (Test Data) for Decision Tree:  3.193813\n"
          ],
          "name": "stdout"
        }
      ]
    },
    {
      "cell_type": "code",
      "metadata": {
        "id": "GWCQ48FCgDq8",
        "colab_type": "code",
        "outputId": "8ac5690d-3056-47e9-eaba-77fcc5752b0f",
        "colab": {
          "base_uri": "https://localhost:8080/",
          "height": 34
        }
      },
      "source": [
        "mlp_predict_Train.shape"
      ],
      "execution_count": 0,
      "outputs": [
        {
          "output_type": "execute_result",
          "data": {
            "text/plain": [
              "(1168,)"
            ]
          },
          "metadata": {
            "tags": []
          },
          "execution_count": 38
        }
      ]
    },
    {
      "cell_type": "code",
      "metadata": {
        "id": "gcgDKvBwtiI5",
        "colab_type": "code",
        "colab": {}
      },
      "source": [
        "pred_test = pd.DataFrame(mlp.predict(X_Test),columns=[\"SalePrice\"])\n",
        "pred_test = np.exp(pred_test)\n",
        "result = pd.concat([Test_Data['Id'], pred_test], axis=1)\n",
        "result.to_csv(\"/gdrive/My Drive/2019fall/cis508/TeamProject/MLPht.csv\", index = False)"
      ],
      "execution_count": 0,
      "outputs": []
    },
    {
      "cell_type": "code",
      "metadata": {
        "id": "xDkCO9h21z3G",
        "colab_type": "code",
        "outputId": "af179ab1-a45f-4c45-b43f-7c141cb25bdf",
        "colab": {
          "base_uri": "https://localhost:8080/",
          "height": 1000
        }
      },
      "source": [
        "#STACKING MODELS =====================================================================\n",
        "print(\"___________________________________________________________________________________________\\nEnsemble Methods Predictions using MLP, Support Vector Regressor GradientBoosting, RandomForest and Decision Tree Classifier\\n\")\n",
        "\n",
        "models = [ GradientBoostingRegressor(), RandomForestRegressor(), DecisionTreeRegressor(), MLPRegressor(), SVR()]\n",
        "      \n",
        "S_Train, S_Test = stacking(models,                   \n",
        "                           X_train, y_train, X_test,   \n",
        "                           regression=True, \n",
        "     \n",
        "                           mode='oof_pred_bag', \n",
        "       \n",
        "                           needs_proba=False,\n",
        "         \n",
        "                           save_dir=None, \n",
        "                                        \n",
        "                           n_folds=5, \n",
        "                                                    \n",
        "                           verbose=2)\n",
        "\n"
      ],
      "execution_count": 0,
      "outputs": [
        {
          "output_type": "stream",
          "text": [
            "___________________________________________________________________________________________\n",
            "Ensemble Methods Predictions using MLP, Support Vector Regressor GradientBoosting, RandomForest and Decision Tree Classifier\n",
            "\n",
            "task:         [regression]\n",
            "metric:       [mean_absolute_error]\n",
            "mode:         [oof_pred_bag]\n",
            "n_models:     [5]\n",
            "\n",
            "model  0:     [GradientBoostingRegressor]\n",
            "    fold  0:  [0.08691073]\n",
            "    fold  1:  [0.09129255]\n",
            "    fold  2:  [0.08527911]\n",
            "    fold  3:  [0.09220537]\n",
            "    fold  4:  [0.08720627]\n",
            "    ----\n",
            "    MEAN:     [0.08857881] + [0.00268592]\n",
            "    FULL:     [0.08857688]\n",
            "\n",
            "model  1:     [RandomForestRegressor]\n",
            "    fold  0:  [0.10680607]\n",
            "    fold  1:  [0.11037845]\n",
            "    fold  2:  [0.11122587]\n",
            "    fold  3:  [0.10874031]\n",
            "    fold  4:  [0.10220218]\n",
            "    ----\n",
            "    MEAN:     [0.10787058] + [0.00321147]\n",
            "    FULL:     [0.10787468]\n",
            "\n",
            "model  2:     [DecisionTreeRegressor]\n",
            "    fold  0:  [0.14489166]\n",
            "    fold  1:  [0.16347226]\n",
            "    fold  2:  [0.13691445]\n",
            "    fold  3:  [0.16692748]\n",
            "    fold  4:  [0.16223276]\n",
            "    ----\n",
            "    MEAN:     [0.15488772] + [0.01179457]\n",
            "    FULL:     [0.15487112]\n",
            "\n",
            "model  3:     [MLPRegressor]\n",
            "    fold  0:  [1.34078802]\n",
            "    fold  1:  [1.04802354]\n",
            "    fold  2:  [1.34690865]\n",
            "    fold  3:  [1.30872029]\n",
            "    fold  4:  [1.69626385]\n",
            "    ----\n",
            "    MEAN:     [1.34814087] + [0.20633448]\n",
            "    FULL:     [1.34787657]\n",
            "\n",
            "model  4:     [SVR]\n",
            "    fold  0:  [0.11963277]\n",
            "    fold  1:  [0.13093337]\n",
            "    fold  2:  [0.11610211]\n",
            "    fold  3:  [0.12047607]\n",
            "    fold  4:  [0.11744752]\n",
            "    ----\n",
            "    MEAN:     [0.12091837] + [0.00524198]\n",
            "    FULL:     [0.12092172]\n",
            "\n"
          ],
          "name": "stdout"
        }
      ]
    },
    {
      "cell_type": "code",
      "metadata": {
        "id": "XMmA8hJO2aj3",
        "colab_type": "code",
        "outputId": "0de840c6-dc3f-44b9-cb4b-a626585617f4",
        "colab": {
          "base_uri": "https://localhost:8080/",
          "height": 51
        }
      },
      "source": [
        "#STACKING - CONTRUCT A Decision Tree Classifier==============================\n",
        "model = DecisionTreeRegressor()\n",
        "    \n",
        "model = model.fit(S_Train, y_train)\n",
        "y_pred_train = model.predict(S_Train)\n",
        "y_pred_test = model.predict(S_Test)\n",
        "\n",
        "mean_squared_error(y_train,y_pred_train)\n",
        "print(\"RMSE (training) for Decision Tree:{0:10f}\".format(mean_squared_error(y_train,y_pred_train)))\n",
        "mean_squared_error(y_test,y_pred_test)\n",
        "print(\"RMSE (Test Data) for Decision Tree:{0:10f}\".format(mean_squared_error(y_test,y_pred_test)))"
      ],
      "execution_count": 0,
      "outputs": [
        {
          "output_type": "stream",
          "text": [
            "RMSE (training) for Decision Tree:  0.000000\n",
            "RMSE (Test Data) for Decision Tree:  0.020990\n"
          ],
          "name": "stdout"
        }
      ]
    },
    {
      "cell_type": "code",
      "metadata": {
        "id": "2-d0FuKe2cCj",
        "colab_type": "code",
        "outputId": "aadc7cfc-fd24-4a38-9ad4-bb052ebeb930",
        "colab": {
          "base_uri": "https://localhost:8080/",
          "height": 51
        }
      },
      "source": [
        "#STACKING - CONTRUCT A Random Forest Regressor==============================\n",
        "model = RandomForestRegressor()\n",
        "    \n",
        "model = model.fit(S_Train, y_train)\n",
        "y_pred_train = model.predict(S_Train)\n",
        "y_pred_test = model.predict(S_Test)\n",
        "\n",
        "mean_squared_error(y_train,y_pred_train)\n",
        "print(\"RMSE (training) for Decision Tree:{0:10f}\".format(mean_squared_error(y_train,y_pred_train)))\n",
        "mean_squared_error(y_test,y_pred_test)\n",
        "print(\"RMSE (Test Data) for Decision Tree:{0:10f}\".format(mean_squared_error(y_test,y_pred_test)))"
      ],
      "execution_count": 0,
      "outputs": [
        {
          "output_type": "stream",
          "text": [
            "RMSE (training) for Decision Tree:  0.003043\n",
            "RMSE (Test Data) for Decision Tree:  0.017410\n"
          ],
          "name": "stdout"
        }
      ]
    },
    {
      "cell_type": "code",
      "metadata": {
        "id": "5hMd4j8H2dlx",
        "colab_type": "code",
        "outputId": "f67b2a2c-afad-4bb3-8390-695243751bed",
        "colab": {
          "base_uri": "https://localhost:8080/",
          "height": 51
        }
      },
      "source": [
        "#STACKING - CONTRUCT A GRADIENT BOOSTING MODEL==============================\n",
        "model = GradientBoostingRegressor()\n",
        "    \n",
        "model = model.fit(S_Train, y_train)\n",
        "y_pred_train = model.predict(S_Train)\n",
        "y_pred_test = model.predict(S_Test)\n",
        "\n",
        "mean_squared_error(y_train,y_pred_train)\n",
        "print(\"RMSE (training) for Decision Tree:{0:10f}\".format(mean_squared_error(y_train,y_pred_train)))\n",
        "mean_squared_error(y_test,y_pred_test)\n",
        "print(\"RMSE (Test Data) for Decision Tree:{0:10f}\".format(mean_squared_error(y_test,y_pred_test)))\n"
      ],
      "execution_count": 0,
      "outputs": [
        {
          "output_type": "stream",
          "text": [
            "RMSE (training) for Decision Tree:  0.008660\n",
            "RMSE (Test Data) for Decision Tree:  0.016398\n"
          ],
          "name": "stdout"
        }
      ]
    },
    {
      "cell_type": "code",
      "metadata": {
        "id": "BupNsUrZ2gBp",
        "colab_type": "code",
        "outputId": "d7bcd1f9-8a83-4898-cff5-4f16f33ee2da",
        "colab": {
          "base_uri": "https://localhost:8080/",
          "height": 51
        }
      },
      "source": [
        "#STACKING - CONTRUCT A SVR==============================\n",
        "model = SVR()\n",
        "    \n",
        "model = model.fit(S_Train, y_train)\n",
        "y_pred_train = model.predict(S_Train)\n",
        "y_pred_test = model.predict(S_Test)\n",
        "\n",
        "mean_squared_error(y_train,y_pred_train)\n",
        "print(\"RMSE (training) for Decision Tree:{0:10f}\".format(mean_squared_error(y_train,y_pred_train)))\n",
        "mean_squared_error(y_test,y_pred_test)\n",
        "print(\"RMSE (Test Data) for Decision Tree:{0:10f}\".format(mean_squared_error(y_test,y_pred_test)))"
      ],
      "execution_count": 0,
      "outputs": [
        {
          "output_type": "stream",
          "text": [
            "RMSE (training) for Decision Tree:  0.015774\n",
            "RMSE (Test Data) for Decision Tree:  0.018896\n"
          ],
          "name": "stdout"
        }
      ]
    },
    {
      "cell_type": "code",
      "metadata": {
        "id": "UkFZtArs2j2M",
        "colab_type": "code",
        "outputId": "5b29cf50-2a6c-4e67-9fff-41e1dd19ebbb",
        "colab": {
          "base_uri": "https://localhost:8080/",
          "height": 51
        }
      },
      "source": [
        "#MLPRegressor\n",
        "#STACKING - CONTRUCT A MLPRegressor==============================\n",
        "model = MLPRegressor()\n",
        "    \n",
        "model = model.fit(S_Train, y_train)\n",
        "y_pred_train = model.predict(S_Train)\n",
        "y_pred_test = model.predict(S_Test)\n",
        "\n",
        "mean_squared_error(y_train,y_pred_train)\n",
        "print(\"RMSE (training) for Decision Tree:{0:10f}\".format(mean_squared_error(y_train,y_pred_train)))\n",
        "mean_squared_error(y_test,y_pred_test)\n",
        "print(\"RMSE (Test Data) for Decision Tree:{0:10f}\".format(mean_squared_error(y_test,y_pred_test)))"
      ],
      "execution_count": 0,
      "outputs": [
        {
          "output_type": "stream",
          "text": [
            "RMSE (training) for Decision Tree:  0.022392\n",
            "RMSE (Test Data) for Decision Tree:  0.024072\n"
          ],
          "name": "stdout"
        }
      ]
    },
    {
      "cell_type": "code",
      "metadata": {
        "id": "xyOl7pzu2uib",
        "colab_type": "code",
        "colab": {}
      },
      "source": [
        ""
      ],
      "execution_count": 0,
      "outputs": []
    }
  ]
}