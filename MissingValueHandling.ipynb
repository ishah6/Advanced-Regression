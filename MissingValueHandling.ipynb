{
  "nbformat": 4,
  "nbformat_minor": 0,
  "metadata": {
    "colab": {
      "name": "Copy of CIS508-B11_MissingValueHandling",
      "provenance": []
    },
    "kernelspec": {
      "name": "python3",
      "display_name": "Python 3"
    }
  },
  "cells": [
    {
      "cell_type": "code",
      "metadata": {
        "id": "u4qxJG4NZz2q",
        "colab_type": "code",
        "outputId": "eda41776-83cd-4d8d-c437-a42999f5b1af",
        "colab": {
          "base_uri": "https://localhost:8080/",
          "height": 139
        }
      },
      "source": [
        "import pandas as pd\n",
        "import numpy as np\n",
        "\n",
        "import warnings\n",
        "warnings.filterwarnings(\"ignore\")\n",
        "#Please ignore the warnings with version change\n",
        "\n",
        "from google.colab import drive\n",
        "drive.mount('/gdrive')\n",
        "#Change current working directory to gdrive\n",
        "%cd /gdrive"
      ],
      "execution_count": 0,
      "outputs": [
        {
          "output_type": "stream",
          "text": [
            "Go to this URL in a browser: https://accounts.google.com/o/oauth2/auth?client_id=947318989803-6bn6qk8qdgf4n4g3pfee6491hc0brc4i.apps.googleusercontent.com&redirect_uri=urn%3aietf%3awg%3aoauth%3a2.0%3aoob&response_type=code&scope=email%20https%3a%2f%2fwww.googleapis.com%2fauth%2fdocs.test%20https%3a%2f%2fwww.googleapis.com%2fauth%2fdrive%20https%3a%2f%2fwww.googleapis.com%2fauth%2fdrive.photos.readonly%20https%3a%2f%2fwww.googleapis.com%2fauth%2fpeopleapi.readonly\n",
            "\n",
            "Enter your authorization code:\n",
            "··········\n",
            "Mounted at /gdrive\n",
            "/gdrive\n"
          ],
          "name": "stdout"
        }
      ]
    },
    {
      "cell_type": "code",
      "metadata": {
        "id": "XwGdZ5WpZ0s5",
        "colab_type": "code",
        "outputId": "84776ed8-6126-4f6e-d54c-3b4bf1461362",
        "colab": {
          "base_uri": "https://localhost:8080/",
          "height": 34
        }
      },
      "source": [
        "#read all train data\n",
        "Train_file = r'/gdrive/My Drive/2019fall/cis508/TeamProject/train.csv'\n",
        "Train_Data = pd.read_csv(Train_file)\n",
        "\n",
        "Train_Data.shape"
      ],
      "execution_count": 0,
      "outputs": [
        {
          "output_type": "execute_result",
          "data": {
            "text/plain": [
              "(1460, 81)"
            ]
          },
          "metadata": {
            "tags": []
          },
          "execution_count": 5
        }
      ]
    },
    {
      "cell_type": "code",
      "metadata": {
        "id": "fEMQ5qsrd8X8",
        "colab_type": "code",
        "colab": {}
      },
      "source": [
        "#read all test data\n",
        "Test_file= r'/gdrive/My Drive/2019fall/cis508/TeamProject/test.csv'\n",
        "Test_Data = pd.read_csv(Test_file)\n"
      ],
      "execution_count": 0,
      "outputs": []
    },
    {
      "cell_type": "code",
      "metadata": {
        "id": "_qFZm6dwdvv_",
        "colab_type": "code",
        "colab": {}
      },
      "source": [
        "# set seed for reproducibility\n",
        "np.random.seed(0)\n",
        "\n",
        "#sample data\n",
        "Train_Data.sample(10)\n",
        "Test_Data.sample(10)"
      ],
      "execution_count": 0,
      "outputs": []
    },
    {
      "cell_type": "code",
      "metadata": {
        "id": "1Lndy3h5hOog",
        "colab_type": "code",
        "colab": {}
      },
      "source": [
        "#from the sample data can see some of the missing value\n",
        "#check how much missing value of each feature\n",
        "\n",
        "#get number of missing value per column\n",
        "missing_values_count = Train_Data.isnull().sum()\n",
        "\n",
        "missing_values_count1 = Test_Data.isnull().sum()\n",
        "#take a look at # of missing value in every feature\n",
        "#we have 80 in total exclude target, not too much so its ok to take a look at all of them\n",
        "missing_values_count[0:30]\n",
        "missing_values_count1[0:30]"
      ],
      "execution_count": 0,
      "outputs": []
    },
    {
      "cell_type": "code",
      "metadata": {
        "id": "GGQ80WtpjD67",
        "colab_type": "code",
        "outputId": "4510bf28-eb82-4d3a-9404-54aef25fe674",
        "colab": {
          "base_uri": "https://localhost:8080/",
          "height": 34
        }
      },
      "source": [
        "#check how many missing data we have and get the percentage\n",
        "total_cell = np.product(Train_Data.shape)\n",
        "total_missing = missing_values_count.sum()\n",
        "\n",
        "(total_missing/total_cell) *100"
      ],
      "execution_count": 0,
      "outputs": [
        {
          "output_type": "execute_result",
          "data": {
            "text/plain": [
              "5.889565364451209"
            ]
          },
          "metadata": {
            "tags": []
          },
          "execution_count": 17
        }
      ]
    },
    {
      "cell_type": "code",
      "metadata": {
        "id": "l7RI4X7WlPXz",
        "colab_type": "code",
        "outputId": "0ce9fb34-182d-47b7-bed5-e3f7fca29fea",
        "colab": {
          "base_uri": "https://localhost:8080/",
          "height": 34
        }
      },
      "source": [
        "total_cell1 = np.product(Test_Data.shape)\n",
        "total_missing1 = missing_values_count1.sum()\n",
        "\n",
        "(total_missing1/total_cell1) *100"
      ],
      "execution_count": 0,
      "outputs": [
        {
          "output_type": "execute_result",
          "data": {
            "text/plain": [
              "5.9972583961617545"
            ]
          },
          "metadata": {
            "tags": []
          },
          "execution_count": 24
        }
      ]
    },
    {
      "cell_type": "code",
      "metadata": {
        "id": "yBZPmQcbp2V8",
        "colab_type": "code",
        "outputId": "81290e07-e5f8-4b05-fc64-4d327403f2b7",
        "colab": {
          "base_uri": "https://localhost:8080/",
          "height": 34
        }
      },
      "source": [
        "#Extract Target Column before doing missing value substitutions and one-hot encoding======\n",
        "Target_Train_Cols = Train_Data[\"SalePrice\"]#make copy of target column\n",
        "Train_Data = Train_Data.drop([\"SalePrice\"], axis=1) #extracting training data without the target column\n",
        "\n",
        "print(Train_Data.shape)"
      ],
      "execution_count": 0,
      "outputs": [
        {
          "output_type": "stream",
          "text": [
            "(1460, 80)\n"
          ],
          "name": "stdout"
        }
      ]
    },
    {
      "cell_type": "code",
      "metadata": {
        "id": "kdPL-REXqOJC",
        "colab_type": "code",
        "outputId": "ffd34912-82e0-4e34-c899-253094f686c7",
        "colab": {
          "base_uri": "https://localhost:8080/",
          "height": 221
        }
      },
      "source": [
        "#Combine Train data and test data first so that the SAME COLUMNS are DROPPED in each\n",
        "combined_Data = pd.concat([Train_Data, Test_Data], keys=[0,1])\n",
        "\n",
        "combined_Data.isnull().sum()"
      ],
      "execution_count": 0,
      "outputs": [
        {
          "output_type": "execute_result",
          "data": {
            "text/plain": [
              "Id                 0\n",
              "MSSubClass         0\n",
              "MSZoning           4\n",
              "LotFrontage      486\n",
              "LotArea            0\n",
              "                ... \n",
              "MiscVal            0\n",
              "MoSold             0\n",
              "YrSold             0\n",
              "SaleType           1\n",
              "SaleCondition      0\n",
              "Length: 80, dtype: int64"
            ]
          },
          "metadata": {
            "tags": []
          },
          "execution_count": 28
        }
      ]
    },
    {
      "cell_type": "code",
      "metadata": {
        "id": "1fWS-1OAqdD1",
        "colab_type": "code",
        "outputId": "49a97a10-9f17-4996-f3f3-318bade0c4a0",
        "colab": {
          "base_uri": "https://localhost:8080/",
          "height": 51
        }
      },
      "source": [
        "#Define threshold for dropping columns\n",
        "percent=int(0.8*(combined_Data.shape[0]))\n",
        "print(percent)\n",
        "#Drop columns that have less than \"thresh\" number of non_Nans\n",
        "td1=combined_Data.dropna(thresh=percent,axis=1)\n",
        "print(td1.shape)"
      ],
      "execution_count": 0,
      "outputs": [
        {
          "output_type": "stream",
          "text": [
            "2335\n",
            "(2919, 75)\n"
          ],
          "name": "stdout"
        }
      ]
    },
    {
      "cell_type": "code",
      "metadata": {
        "id": "u-55aTySrHI2",
        "colab_type": "code",
        "outputId": "77346856-07f7-4ce7-8974-27951a61486f",
        "colab": {
          "base_uri": "https://localhost:8080/",
          "height": 34
        }
      },
      "source": [
        "#check the missing value and its percentage\n",
        "missing_values_countc = td1.isnull().sum()\n",
        "#td1[0:30]\n",
        "\n",
        "total_cellc = np.product(td1.shape)\n",
        "total_missingc = missing_values_countc.sum()\n",
        "\n",
        "(total_missingc/total_cellc) *100\n",
        "#after handling the missing value - 0.0%"
      ],
      "execution_count": 0,
      "outputs": [
        {
          "output_type": "execute_result",
          "data": {
            "text/plain": [
              "0.0"
            ]
          },
          "metadata": {
            "tags": []
          },
          "execution_count": 52
        }
      ]
    },
    {
      "cell_type": "code",
      "metadata": {
        "id": "JAxV8jCksuMC",
        "colab_type": "code",
        "colab": {}
      },
      "source": [
        "#for numerical, set the mean value for them\n",
        "numeric=td1.select_dtypes(include=['int','float64']).columns\n",
        "for num in numeric:\n",
        "  td1[num]=td1[num].fillna(td1[num].mean())\n",
        "\n",
        "#for catigorical, set the na value fill by value after it, if no value, set to 0\n",
        "train_cat_cols = td1.select_dtypes(exclude=['int','float64']).columns\n",
        "for colss in train_cat_cols:\n",
        "    td1[colss]=td1[colss].fillna(method = 'bfill', axis = 0).fillna(\"0\")\n"
      ],
      "execution_count": 0,
      "outputs": []
    },
    {
      "cell_type": "code",
      "metadata": {
        "id": "SSi-tCXptd2g",
        "colab_type": "code",
        "colab": {}
      },
      "source": [
        "print(td1.head(20))"
      ],
      "execution_count": 0,
      "outputs": []
    },
    {
      "cell_type": "code",
      "metadata": {
        "id": "AnhV1KG0uLTJ",
        "colab_type": "code",
        "outputId": "712d8fde-50c3-4267-df34-d23afd130661",
        "colab": {
          "base_uri": "https://localhost:8080/",
          "height": 68
        }
      },
      "source": [
        "#separate train and test data\n",
        "Train_Data = td1.xs(0)\n",
        "Test_Data = td1.xs(1)\n",
        "print(Train_Data.shape)\n",
        "print(Test_Data.shape)\n",
        "\n",
        "Train_Data=pd.concat([Train_Data,Target_Train_Cols], axis=1)\n",
        "print(Train_Data.shape)"
      ],
      "execution_count": 0,
      "outputs": [
        {
          "output_type": "stream",
          "text": [
            "(1460, 75)\n",
            "(1459, 75)\n",
            "(1460, 76)\n"
          ],
          "name": "stdout"
        }
      ]
    },
    {
      "cell_type": "code",
      "metadata": {
        "id": "ZvHtg40duq9r",
        "colab_type": "code",
        "colab": {}
      },
      "source": [
        "#export our pre-process data and use it "
      ],
      "execution_count": 0,
      "outputs": []
    },
    {
      "cell_type": "code",
      "metadata": {
        "id": "RA6kmXYVuw7z",
        "colab_type": "code",
        "colab": {}
      },
      "source": [
        "export_csv = Train_Data.to_csv(r'/gdrive/My Drive/2019fall/cis508/TeamProject/Preprocess_Train.csv')\n",
        "exporttest_csv = Test_Data.to_csv(r'/gdrive/My Drive/2019fall/cis508/TeamProject/Preprocess_Test.csv')"
      ],
      "execution_count": 0,
      "outputs": []
    }
  ]
}